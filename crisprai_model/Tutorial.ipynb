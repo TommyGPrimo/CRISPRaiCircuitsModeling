{
 "cells": [
  {
   "cell_type": "markdown",
   "metadata": {},
   "source": [
    "# Getting Started\n",
    "Jupyter notebook that is a tutorial for using module\n",
    "\n",
    "## Imports\n",
    "CRISPRai model depends on:\n",
    "1. Tellurium: biochemical modeling\n",
    "2. Pandas: Data manipulation\n",
    "3. Numpy: Numerical and Data manipulation"
   ]
  },
  {
   "cell_type": "code",
   "execution_count": 1,
   "metadata": {},
   "outputs": [],
   "source": [
    "# Import package\n",
    "from crisprai_model import crisprai_model as cai"
   ]
  },
  {
   "cell_type": "code",
   "execution_count": 2,
   "metadata": {},
   "outputs": [
    {
     "name": "stdout",
     "output_type": "stream",
     "text": [
      "Module built\n"
     ]
    }
   ],
   "source": [
    "# Initialize CRISPRai-package module\n",
    "cai_genetic_circuit = cai()"
   ]
  },
  {
   "cell_type": "code",
   "execution_count": 24,
   "metadata": {},
   "outputs": [
    {
     "name": "stdout",
     "output_type": "stream",
     "text": [
      "Changing the input response range\n"
     ]
    }
   ],
   "source": [
    "cai.changeInputResponseRange(8)"
   ]
  },
  {
   "cell_type": "code",
   "execution_count": 25,
   "metadata": {},
   "outputs": [
    {
     "name": "stdout",
     "output_type": "stream",
     "text": [
      "Simulating genetic circuits\n"
     ]
    }
   ],
   "source": [
    "cai.simulateGeneticCircuits()"
   ]
  }
 ],
 "metadata": {
  "kernelspec": {
   "display_name": "Python 3",
   "language": "python",
   "name": "python3"
  },
  "language_info": {
   "codemirror_mode": {
    "name": "ipython",
    "version": 3
   },
   "file_extension": ".py",
   "mimetype": "text/x-python",
   "name": "python",
   "nbconvert_exporter": "python",
   "pygments_lexer": "ipython3",
   "version": "3.11.5"
  }
 },
 "nbformat": 4,
 "nbformat_minor": 2
}
