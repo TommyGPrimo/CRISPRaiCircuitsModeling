{
 "cells": [
  {
   "cell_type": "markdown",
   "metadata": {},
   "source": [
    "# Getting Started\n",
    "Jupyter notebook that is a tutorial for using module\n",
    "\n",
    "## Imports\n",
    "CRISPRai model depends on:\n",
    "1. Tellurium: biochemical modeling\n",
    "2. Pandas: Data manipulation\n",
    "3. Numpy: Numerical and Data manipulation"
   ]
  },
  {
   "cell_type": "code",
   "execution_count": 26,
   "metadata": {},
   "outputs": [],
   "source": [
    "# Import package\n",
    "from crisprai_model import crisprai_model as cai"
   ]
  },
  {
   "cell_type": "code",
   "execution_count": 29,
   "metadata": {},
   "outputs": [
    {
     "name": "stdout",
     "output_type": "stream",
     "text": [
      "Module built\n"
     ]
    }
   ],
   "source": [
    "cai_circuit = cai()"
   ]
  },
  {
   "cell_type": "code",
   "execution_count": 11,
   "metadata": {},
   "outputs": [
    {
     "ename": "NameError",
     "evalue": "name 'rm' is not defined",
     "output_type": "error",
     "traceback": [
      "\u001b[0;31m---------------------------------------------------------------------------\u001b[0m",
      "\u001b[0;31mNameError\u001b[0m                                 Traceback (most recent call last)",
      "Cell \u001b[0;32mIn[11], line 1\u001b[0m\n\u001b[0;32m----> 1\u001b[0m cai\u001b[38;5;241m.\u001b[39mdefine_io_model(cai)\n",
      "File \u001b[0;32m~/CRISPRaiCircuitsModeling/crisprai_model/crisprai_model.py:100\u001b[0m, in \u001b[0;36mcrisprai_model.define_io_model\u001b[0;34m(self)\u001b[0m\n\u001b[1;32m     98\u001b[0m  \u001b[38;5;66;03m# Initialize reduced tellurium model\u001b[39;00m\n\u001b[1;32m     99\u001b[0m rtm \u001b[38;5;241m=\u001b[39m te\u001b[38;5;241m.\u001b[39mloada(reduced_model)\n\u001b[0;32m--> 100\u001b[0m rm_data \u001b[38;5;241m=\u001b[39m rm\u001b[38;5;241m.\u001b[39msimulate(\u001b[38;5;241m0\u001b[39m,\u001b[38;5;241m1\u001b[39m,\u001b[38;5;241m2000\u001b[39m)\n\u001b[1;32m    102\u001b[0m \u001b[38;5;66;03m# If plotting is needed - uncomment\u001b[39;00m\n\u001b[1;32m    103\u001b[0m \u001b[38;5;66;03m#rtm.plot(title=\"CRISPRa Modality I Model\", xlabel= \"Time (sec)\", ylabel= \"Concentration\")\u001b[39;00m\n\u001b[1;32m    104\u001b[0m \u001b[38;5;28mprint\u001b[39m(\u001b[38;5;124m\"\u001b[39m\u001b[38;5;124mIO MOdel Defined\u001b[39m\u001b[38;5;124m\"\u001b[39m)\n",
      "\u001b[0;31mNameError\u001b[0m: name 'rm' is not defined"
     ]
    }
   ],
   "source": [
    "cai.define_io_model(cai)"
   ]
  }
 ],
 "metadata": {
  "kernelspec": {
   "display_name": "Python 3",
   "language": "python",
   "name": "python3"
  },
  "language_info": {
   "codemirror_mode": {
    "name": "ipython",
    "version": 3
   },
   "file_extension": ".py",
   "mimetype": "text/x-python",
   "name": "python",
   "nbconvert_exporter": "python",
   "pygments_lexer": "ipython3",
   "version": "3.11.5"
  }
 },
 "nbformat": 4,
 "nbformat_minor": 2
}
